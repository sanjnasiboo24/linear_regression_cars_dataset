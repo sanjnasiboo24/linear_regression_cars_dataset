{
 "cells": [
  {
   "cell_type": "markdown",
   "metadata": {
    "colab_type": "text",
    "id": "X0eZyGq3YG_9"
   },
   "source": [
    "## Linear Regression using cars dataset"
   ]
  },
  {
   "cell_type": "markdown",
   "metadata": {},
   "source": [
    "### To predict the miles per gallon (MPG) usinfg few independent variables"
   ]
  },
  {
   "cell_type": "markdown",
   "metadata": {
    "colab_type": "text",
    "id": "MudvuaMrYG__"
   },
   "source": [
    "# Importing Libraries"
   ]
  },
  {
   "cell_type": "code",
   "execution_count": 1,
   "metadata": {
    "colab": {},
    "colab_type": "code",
    "id": "DKvIhlKcYHAB"
   },
   "outputs": [],
   "source": [
    "#  Importing libraries for exploratory Data Analysis\n",
    "\n",
    "import pandas as pd\n",
    "import numpy as np\n",
    "\n",
    "#  Importing libraries for Data Visualization\n",
    "\n",
    "import matplotlib.pyplot as plt\n",
    "import seaborn as sb\n",
    "%matplotlib inline"
   ]
  },
  {
   "cell_type": "code",
   "execution_count": 2,
   "metadata": {
    "colab": {},
    "colab_type": "code",
    "id": "AT8jwR9xYHAI"
   },
   "outputs": [],
   "source": [
    "#  import      ing Data \n",
    "cars = pd.read_csv(\"C:/Users/Dell/Desktop/verzeo/linear regression/cars.csv\")"
   ]
  },
  {
   "cell_type": "code",
   "execution_count": 3,
   "metadata": {
    "colab": {},
    "colab_type": "code",
    "id": "SYyUotYOYHAP",
    "outputId": "536d03d2-14ab-41d9-8da9-fe434e757b17"
   },
   "outputs": [
    {
     "name": "stdout",
     "output_type": "stream",
     "text": [
      "(32, 12)\n"
     ]
    }
   ],
   "source": [
    "#checking data set shape\n",
    "print(cars.shape)"
   ]
  },
  {
   "cell_type": "code",
   "execution_count": 4,
   "metadata": {
    "colab": {},
    "colab_type": "code",
    "id": "jd9HdJjnYHAZ",
    "outputId": "1d59e30e-ae63-46d6-9384-d90191d9c646"
   },
   "outputs": [
    {
     "data": {
      "text/html": [
       "<div>\n",
       "<style scoped>\n",
       "    .dataframe tbody tr th:only-of-type {\n",
       "        vertical-align: middle;\n",
       "    }\n",
       "\n",
       "    .dataframe tbody tr th {\n",
       "        vertical-align: top;\n",
       "    }\n",
       "\n",
       "    .dataframe thead th {\n",
       "        text-align: right;\n",
       "    }\n",
       "</style>\n",
       "<table border=\"1\" class=\"dataframe\">\n",
       "  <thead>\n",
       "    <tr style=\"text-align: right;\">\n",
       "      <th></th>\n",
       "      <th>Model</th>\n",
       "      <th>MPG</th>\n",
       "      <th>Cylinder</th>\n",
       "      <th>Disp</th>\n",
       "      <th>HP</th>\n",
       "      <th>Drat</th>\n",
       "      <th>Wt</th>\n",
       "      <th>Qsec</th>\n",
       "      <th>VS</th>\n",
       "      <th>AM</th>\n",
       "      <th>Gear</th>\n",
       "      <th>Carb</th>\n",
       "    </tr>\n",
       "  </thead>\n",
       "  <tbody>\n",
       "    <tr>\n",
       "      <td>0</td>\n",
       "      <td>Mazda RX4</td>\n",
       "      <td>21.0</td>\n",
       "      <td>6</td>\n",
       "      <td>160.0</td>\n",
       "      <td>110.0</td>\n",
       "      <td>3.90</td>\n",
       "      <td>2.620</td>\n",
       "      <td>16.46</td>\n",
       "      <td>0</td>\n",
       "      <td>1</td>\n",
       "      <td>4</td>\n",
       "      <td>4</td>\n",
       "    </tr>\n",
       "    <tr>\n",
       "      <td>1</td>\n",
       "      <td>Mazda RX4 Wag</td>\n",
       "      <td>21.0</td>\n",
       "      <td>6</td>\n",
       "      <td>160.0</td>\n",
       "      <td>110.0</td>\n",
       "      <td>3.90</td>\n",
       "      <td>2.875</td>\n",
       "      <td>17.02</td>\n",
       "      <td>0</td>\n",
       "      <td>1</td>\n",
       "      <td>4</td>\n",
       "      <td>4</td>\n",
       "    </tr>\n",
       "    <tr>\n",
       "      <td>2</td>\n",
       "      <td>Datsun 710</td>\n",
       "      <td>22.8</td>\n",
       "      <td>4</td>\n",
       "      <td>108.0</td>\n",
       "      <td>93.0</td>\n",
       "      <td>3.85</td>\n",
       "      <td>2.320</td>\n",
       "      <td>18.61</td>\n",
       "      <td>1</td>\n",
       "      <td>1</td>\n",
       "      <td>4</td>\n",
       "      <td>1</td>\n",
       "    </tr>\n",
       "    <tr>\n",
       "      <td>3</td>\n",
       "      <td>Hornet 4 Drive</td>\n",
       "      <td>21.4</td>\n",
       "      <td>6</td>\n",
       "      <td>258.0</td>\n",
       "      <td>110.0</td>\n",
       "      <td>3.08</td>\n",
       "      <td>3.215</td>\n",
       "      <td>19.44</td>\n",
       "      <td>1</td>\n",
       "      <td>0</td>\n",
       "      <td>3</td>\n",
       "      <td>1</td>\n",
       "    </tr>\n",
       "    <tr>\n",
       "      <td>4</td>\n",
       "      <td>Hornet Sportabout</td>\n",
       "      <td>18.7</td>\n",
       "      <td>8</td>\n",
       "      <td>360.0</td>\n",
       "      <td>175.0</td>\n",
       "      <td>3.15</td>\n",
       "      <td>3.440</td>\n",
       "      <td>17.02</td>\n",
       "      <td>0</td>\n",
       "      <td>0</td>\n",
       "      <td>3</td>\n",
       "      <td>2</td>\n",
       "    </tr>\n",
       "  </tbody>\n",
       "</table>\n",
       "</div>"
      ],
      "text/plain": [
       "              Model    MPG  Cylinder   Disp     HP  Drat     Wt   Qsec  VS  \\\n",
       "0          Mazda RX4  21.0         6  160.0  110.0  3.90  2.620  16.46   0   \n",
       "1      Mazda RX4 Wag  21.0         6  160.0  110.0  3.90  2.875  17.02   0   \n",
       "2         Datsun 710  22.8         4  108.0   93.0  3.85  2.320  18.61   1   \n",
       "3     Hornet 4 Drive  21.4         6  258.0  110.0  3.08  3.215  19.44   1   \n",
       "4  Hornet Sportabout  18.7         8  360.0  175.0  3.15  3.440  17.02   0   \n",
       "\n",
       "   AM  Gear  Carb  \n",
       "0   1     4     4  \n",
       "1   1     4     4  \n",
       "2   1     4     1  \n",
       "3   0     3     1  \n",
       "4   0     3     2  "
      ]
     },
     "execution_count": 4,
     "metadata": {},
     "output_type": "execute_result"
    }
   ],
   "source": [
    "cars.head()"
   ]
  },
  {
   "cell_type": "code",
   "execution_count": 5,
   "metadata": {},
   "outputs": [
    {
     "name": "stdout",
     "output_type": "stream",
     "text": [
      "<class 'pandas.core.frame.DataFrame'>\n",
      "RangeIndex: 32 entries, 0 to 31\n",
      "Data columns (total 12 columns):\n",
      "Model       32 non-null object\n",
      "MPG         32 non-null float64\n",
      "Cylinder    32 non-null int64\n",
      "Disp        29 non-null float64\n",
      "HP          29 non-null float64\n",
      "Drat        32 non-null float64\n",
      "Wt          32 non-null float64\n",
      "Qsec        32 non-null float64\n",
      "VS          32 non-null int64\n",
      "AM          32 non-null int64\n",
      "Gear        32 non-null int64\n",
      "Carb        32 non-null int64\n",
      "dtypes: float64(6), int64(5), object(1)\n",
      "memory usage: 3.1+ KB\n"
     ]
    }
   ],
   "source": [
    "cars.info()"
   ]
  },
  {
   "cell_type": "markdown",
   "metadata": {
    "colab_type": "text",
    "id": "jQls9c-VYHAj"
   },
   "source": [
    "# Exploratory Data Analysis"
   ]
  },
  {
   "cell_type": "code",
   "execution_count": 6,
   "metadata": {
    "colab": {},
    "colab_type": "code",
    "id": "GCZkTri4YHAl",
    "outputId": "35084e3a-02a6-4454-be98-e40c6cd6ca88"
   },
   "outputs": [
    {
     "data": {
      "text/plain": [
       "Model       0\n",
       "MPG         0\n",
       "Cylinder    0\n",
       "Disp        3\n",
       "HP          3\n",
       "Drat        0\n",
       "Wt          0\n",
       "Qsec        0\n",
       "VS          0\n",
       "AM          0\n",
       "Gear        0\n",
       "Carb        0\n",
       "dtype: int64"
      ]
     },
     "execution_count": 6,
     "metadata": {},
     "output_type": "execute_result"
    }
   ],
   "source": [
    "#checking for null values in data set\n",
    "cars.isnull().sum()"
   ]
  },
  {
   "cell_type": "code",
   "execution_count": 7,
   "metadata": {},
   "outputs": [
    {
     "data": {
      "text/plain": [
       "MPG          20.090625\n",
       "Cylinder      6.187500\n",
       "Disp        229.789655\n",
       "HP          145.206897\n",
       "Drat          3.596563\n",
       "Wt            3.217250\n",
       "Qsec         17.848750\n",
       "VS            0.437500\n",
       "AM            0.406250\n",
       "Gear          3.687500\n",
       "Carb          2.812500\n",
       "dtype: float64"
      ]
     },
     "execution_count": 7,
     "metadata": {},
     "output_type": "execute_result"
    }
   ],
   "source": [
    "cars.mean()"
   ]
  },
  {
   "cell_type": "code",
   "execution_count": 8,
   "metadata": {
    "colab": {},
    "colab_type": "code",
    "id": "kxg7mF3pYHAu"
   },
   "outputs": [],
   "source": [
    "#  replacing the  null values with mean value\n",
    "cars = cars.fillna(cars.mean())"
   ]
  },
  {
   "cell_type": "code",
   "execution_count": 9,
   "metadata": {
    "colab": {},
    "colab_type": "code",
    "id": "bxI7Ndi3YHA4",
    "outputId": "bc4081c7-022c-4a16-9240-5dee5f36959b"
   },
   "outputs": [
    {
     "data": {
      "text/plain": [
       "Model       0\n",
       "MPG         0\n",
       "Cylinder    0\n",
       "Disp        0\n",
       "HP          0\n",
       "Drat        0\n",
       "Wt          0\n",
       "Qsec        0\n",
       "VS          0\n",
       "AM          0\n",
       "Gear        0\n",
       "Carb        0\n",
       "dtype: int64"
      ]
     },
     "execution_count": 9,
     "metadata": {},
     "output_type": "execute_result"
    }
   ],
   "source": [
    "cars.isnull().sum()"
   ]
  },
  {
   "cell_type": "code",
   "execution_count": 10,
   "metadata": {
    "colab": {},
    "colab_type": "code",
    "id": "znwlUJ5oYHBA",
    "outputId": "58a69120-8e2d-4f9f-c44d-89517004d5db"
   },
   "outputs": [
    {
     "data": {
      "text/plain": [
       "<matplotlib.axes._subplots.AxesSubplot at 0x1b1e6aa7a88>"
      ]
     },
     "execution_count": 10,
     "metadata": {},
     "output_type": "execute_result"
    },
    {
     "data": {
      "image/png": "[encoded data removed]",
      "text/plain": [
       "<Figure size 720x720 with 1 Axes>"
      ]
     },
     "metadata": {
      "needs_background": "light"
     },
     "output_type": "display_data"
    }
   ],
   "source": [
    "#boxplot is used to predict the outliers in the dataset if any\n",
    "#figure size gives the dimensions\n",
    "cars.boxplot(figsize=(10,10))"
   ]
  },
  {
   "cell_type": "code",
   "execution_count": 11,
   "metadata": {
    "colab": {},
    "colab_type": "code",
    "id": "FwoucRW5YHBJ",
    "outputId": "a73bab32-4e3c-425e-af40-19c3d3c66007"
   },
   "outputs": [
    {
     "data": {
      "text/plain": [
       "<matplotlib.axes._subplots.AxesSubplot at 0x28d8e193d48>"
      ]
     },
     "execution_count": 11,
     "metadata": {},
     "output_type": "execute_result"
    },
    {
     "data": {
      "image/png": "[encoded data removed]",
      "text/plain": [
       "<Figure size 432x288 with 2 Axes>"
      ]
     },
     "metadata": {
      "needs_background": "light"
     },
     "output_type": "display_data"
    }
   ],
   "source": [
    "#heatmap is used for correlation b/w various features\n",
    "sb.heatmap(cars.corr())"
   ]
  },
  {
   "cell_type": "code",
   "execution_count": 11,
   "metadata": {},
   "outputs": [
    {
     "data": {
      "text/html": [
       "<div>\n",
       "<style scoped>\n",
       "    .dataframe tbody tr th:only-of-type {\n",
       "        vertical-align: middle;\n",
       "    }\n",
       "\n",
       "    .dataframe tbody tr th {\n",
       "        vertical-align: top;\n",
       "    }\n",
       "\n",
       "    .dataframe thead th {\n",
       "        text-align: right;\n",
       "    }\n",
       "</style>\n",
       "<table border=\"1\" class=\"dataframe\">\n",
       "  <thead>\n",
       "    <tr style=\"text-align: right;\">\n",
       "      <th></th>\n",
       "      <th>MPG</th>\n",
       "      <th>Cylinder</th>\n",
       "      <th>Disp</th>\n",
       "      <th>HP</th>\n",
       "      <th>Drat</th>\n",
       "      <th>Wt</th>\n",
       "      <th>Qsec</th>\n",
       "      <th>VS</th>\n",
       "      <th>AM</th>\n",
       "      <th>Gear</th>\n",
       "      <th>Carb</th>\n",
       "    </tr>\n",
       "  </thead>\n",
       "  <tbody>\n",
       "    <tr>\n",
       "      <td>MPG</td>\n",
       "      <td>1.000000</td>\n",
       "      <td>-0.852162</td>\n",
       "      <td>-0.844253</td>\n",
       "      <td>-0.764345</td>\n",
       "      <td>0.681172</td>\n",
       "      <td>-0.867659</td>\n",
       "      <td>0.418684</td>\n",
       "      <td>0.664039</td>\n",
       "      <td>0.599832</td>\n",
       "      <td>0.480285</td>\n",
       "      <td>-0.550925</td>\n",
       "    </tr>\n",
       "    <tr>\n",
       "      <td>Cylinder</td>\n",
       "      <td>-0.852162</td>\n",
       "      <td>1.000000</td>\n",
       "      <td>0.883549</td>\n",
       "      <td>0.806028</td>\n",
       "      <td>-0.699938</td>\n",
       "      <td>0.782496</td>\n",
       "      <td>-0.591242</td>\n",
       "      <td>-0.810812</td>\n",
       "      <td>-0.522607</td>\n",
       "      <td>-0.492687</td>\n",
       "      <td>0.526988</td>\n",
       "    </tr>\n",
       "    <tr>\n",
       "      <td>Disp</td>\n",
       "      <td>-0.844253</td>\n",
       "      <td>0.883549</td>\n",
       "      <td>1.000000</td>\n",
       "      <td>0.781902</td>\n",
       "      <td>-0.682647</td>\n",
       "      <td>0.882466</td>\n",
       "      <td>-0.428585</td>\n",
       "      <td>-0.677328</td>\n",
       "      <td>-0.589928</td>\n",
       "      <td>-0.530916</td>\n",
       "      <td>0.407567</td>\n",
       "    </tr>\n",
       "    <tr>\n",
       "      <td>HP</td>\n",
       "      <td>-0.764345</td>\n",
       "      <td>0.806028</td>\n",
       "      <td>0.781902</td>\n",
       "      <td>1.000000</td>\n",
       "      <td>-0.414259</td>\n",
       "      <td>0.649502</td>\n",
       "      <td>-0.711671</td>\n",
       "      <td>-0.689782</td>\n",
       "      <td>-0.227285</td>\n",
       "      <td>-0.091671</td>\n",
       "      <td>0.761158</td>\n",
       "    </tr>\n",
       "    <tr>\n",
       "      <td>Drat</td>\n",
       "      <td>0.681172</td>\n",
       "      <td>-0.699938</td>\n",
       "      <td>-0.682647</td>\n",
       "      <td>-0.414259</td>\n",
       "      <td>1.000000</td>\n",
       "      <td>-0.712441</td>\n",
       "      <td>0.091205</td>\n",
       "      <td>0.440278</td>\n",
       "      <td>0.712711</td>\n",
       "      <td>0.699610</td>\n",
       "      <td>-0.090790</td>\n",
       "    </tr>\n",
       "    <tr>\n",
       "      <td>Wt</td>\n",
       "      <td>-0.867659</td>\n",
       "      <td>0.782496</td>\n",
       "      <td>0.882466</td>\n",
       "      <td>0.649502</td>\n",
       "      <td>-0.712441</td>\n",
       "      <td>1.000000</td>\n",
       "      <td>-0.174716</td>\n",
       "      <td>-0.554916</td>\n",
       "      <td>-0.692495</td>\n",
       "      <td>-0.583287</td>\n",
       "      <td>0.427606</td>\n",
       "    </tr>\n",
       "    <tr>\n",
       "      <td>Qsec</td>\n",
       "      <td>0.418684</td>\n",
       "      <td>-0.591242</td>\n",
       "      <td>-0.428585</td>\n",
       "      <td>-0.711671</td>\n",
       "      <td>0.091205</td>\n",
       "      <td>-0.174716</td>\n",
       "      <td>1.000000</td>\n",
       "      <td>0.744535</td>\n",
       "      <td>-0.229861</td>\n",
       "      <td>-0.212682</td>\n",
       "      <td>-0.656249</td>\n",
       "    </tr>\n",
       "    <tr>\n",
       "      <td>VS</td>\n",
       "      <td>0.664039</td>\n",
       "      <td>-0.810812</td>\n",
       "      <td>-0.677328</td>\n",
       "      <td>-0.689782</td>\n",
       "      <td>0.440278</td>\n",
       "      <td>-0.554916</td>\n",
       "      <td>0.744535</td>\n",
       "      <td>1.000000</td>\n",
       "      <td>0.168345</td>\n",
       "      <td>0.206023</td>\n",
       "      <td>-0.569607</td>\n",
       "    </tr>\n",
       "    <tr>\n",
       "      <td>AM</td>\n",
       "      <td>0.599832</td>\n",
       "      <td>-0.522607</td>\n",
       "      <td>-0.589928</td>\n",
       "      <td>-0.227285</td>\n",
       "      <td>0.712711</td>\n",
       "      <td>-0.692495</td>\n",
       "      <td>-0.229861</td>\n",
       "      <td>0.168345</td>\n",
       "      <td>1.000000</td>\n",
       "      <td>0.794059</td>\n",
       "      <td>0.057534</td>\n",
       "    </tr>\n",
       "    <tr>\n",
       "      <td>Gear</td>\n",
       "      <td>0.480285</td>\n",
       "      <td>-0.492687</td>\n",
       "      <td>-0.530916</td>\n",
       "      <td>-0.091671</td>\n",
       "      <td>0.699610</td>\n",
       "      <td>-0.583287</td>\n",
       "      <td>-0.212682</td>\n",
       "      <td>0.206023</td>\n",
       "      <td>0.794059</td>\n",
       "      <td>1.000000</td>\n",
       "      <td>0.274073</td>\n",
       "    </tr>\n",
       "    <tr>\n",
       "      <td>Carb</td>\n",
       "      <td>-0.550925</td>\n",
       "      <td>0.526988</td>\n",
       "      <td>0.407567</td>\n",
       "      <td>0.761158</td>\n",
       "      <td>-0.090790</td>\n",
       "      <td>0.427606</td>\n",
       "      <td>-0.656249</td>\n",
       "      <td>-0.569607</td>\n",
       "      <td>0.057534</td>\n",
       "      <td>0.274073</td>\n",
       "      <td>1.000000</td>\n",
       "    </tr>\n",
       "  </tbody>\n",
       "</table>\n",
       "</div>"
      ],
      "text/plain": [
       "               MPG  Cylinder      Disp        HP      Drat        Wt  \\\n",
       "MPG       1.000000 -0.852162 -0.844253 -0.764345  0.681172 -0.867659   \n",
       "Cylinder -0.852162  1.000000  0.883549  0.806028 -0.699938  0.782496   \n",
       "Disp     -0.844253  0.883549  1.000000  0.781902 -0.682647  0.882466   \n",
       "HP       -0.764345  0.806028  0.781902  1.000000 -0.414259  0.649502   \n",
       "Drat      0.681172 -0.699938 -0.682647 -0.414259  1.000000 -0.712441   \n",
       "Wt       -0.867659  0.782496  0.882466  0.649502 -0.712441  1.000000   \n",
       "Qsec      0.418684 -0.591242 -0.428585 -0.711671  0.091205 -0.174716   \n",
       "VS        0.664039 -0.810812 -0.677328 -0.689782  0.440278 -0.554916   \n",
       "AM        0.599832 -0.522607 -0.589928 -0.227285  0.712711 -0.692495   \n",
       "Gear      0.480285 -0.492687 -0.530916 -0.091671  0.699610 -0.583287   \n",
       "Carb     -0.550925  0.526988  0.407567  0.761158 -0.090790  0.427606   \n",
       "\n",
       "              Qsec        VS        AM      Gear      Carb  \n",
       "MPG       0.418684  0.664039  0.599832  0.480285 -0.550925  \n",
       "Cylinder -0.591242 -0.810812 -0.522607 -0.492687  0.526988  \n",
       "Disp     -0.428585 -0.677328 -0.589928 -0.530916  0.407567  \n",
       "HP       -0.711671 -0.689782 -0.227285 -0.091671  0.761158  \n",
       "Drat      0.091205  0.440278  0.712711  0.699610 -0.090790  \n",
       "Wt       -0.174716 -0.554916 -0.692495 -0.583287  0.427606  \n",
       "Qsec      1.000000  0.744535 -0.229861 -0.212682 -0.656249  \n",
       "VS        0.744535  1.000000  0.168345  0.206023 -0.569607  \n",
       "AM       -0.229861  0.168345  1.000000  0.794059  0.057534  \n",
       "Gear     -0.212682  0.206023  0.794059  1.000000  0.274073  \n",
       "Carb     -0.656249 -0.569607  0.057534  0.274073  1.000000  "
      ]
     },
     "execution_count": 11,
     "metadata": {},
     "output_type": "execute_result"
    }
   ],
   "source": [
    "cars.corr()"
   ]
  },
  {
   "cell_type": "code",
   "execution_count": null,
   "metadata": {
    "colab": {},
    "colab_type": "code",
    "id": "brp2AkRxYHBS",
    "outputId": "6699c996-06a5-4d9f-ebaa-f572108a6275"
   },
   "outputs": [],
   "source": [
    "cars.corr()\n",
    "HFM | Consolidation Standards | FCCS | HFM Standards | FCCS Stan"
   ]
  },
  {
   "cell_type": "code",
   "execution_count": 12,
   "metadata": {
    "colab": {},
    "colab_type": "code",
    "id": "vleU9h6OYHBb",
    "outputId": "2f5d05e9-5c3b-4439-8e10-c84f27d84cb0"
   },
   "outputs": [
    {
     "name": "stdout",
     "output_type": "stream",
     "text": [
      "Range of Skewness, S < |1.96|\n",
      "Skewness of hp:  0.8444142994364577\n",
      "Skewness of wt:  0.44378553550607736\n",
      "Kurtosis of hp:  0.2424939159880557\n",
      "Kurtosis of wt:  0.1724705401587343\n"
     ]
    },
    {
     "data": {
      "image/png": "[encoded data removed]",
      "text/plain": [
       "<Figure size 432x288 with 1 Axes>"
      ]
     },
     "metadata": {
      "needs_background": "light"
     },
     "output_type": "display_data"
    }
   ],
   "source": [
    "from scipy import stats\n",
    "\n",
    "sb.distplot(cars.HP)\n",
    "print(\"Range of Skewness, S < |1.96|\")\n",
    "\n",
    "print(\"Skewness of hp: \",stats.skew(cars.HP))\n",
    "print(\"Skewness of wt: \",stats.skew(cars.Wt))\n",
    "\n",
    "\n",
    "print(\"Kurtosis of hp: \",stats.kurtosis(cars.HP))\n",
    "print(\"Kurtosis of wt: \",stats.kurtosis(cars.Wt))\n",
    "\n",
    "#both HP and Wt passing normality test, they are normal values coming between the range of -1.96 to + 1.96"
   ]
  },
  {
   "cell_type": "code",
   "execution_count": 13,
   "metadata": {
    "colab": {},
    "colab_type": "code",
    "id": "e4LrEibLYHBt"
   },
   "outputs": [
    {
     "data": {
      "text/html": [
       "<div>\n",
       "<style scoped>\n",
       "    .dataframe tbody tr th:only-of-type {\n",
       "        vertical-align: middle;\n",
       "    }\n",
       "\n",
       "    .dataframe tbody tr th {\n",
       "        vertical-align: top;\n",
       "    }\n",
       "\n",
       "    .dataframe thead th {\n",
       "        text-align: right;\n",
       "    }\n",
       "</style>\n",
       "<table border=\"1\" class=\"dataframe\">\n",
       "  <thead>\n",
       "    <tr style=\"text-align: right;\">\n",
       "      <th></th>\n",
       "      <th>HP</th>\n",
       "      <th>Wt</th>\n",
       "      <th>AM</th>\n",
       "    </tr>\n",
       "  </thead>\n",
       "  <tbody>\n",
       "    <tr>\n",
       "      <td>0</td>\n",
       "      <td>110.000000</td>\n",
       "      <td>2.620</td>\n",
       "      <td>1</td>\n",
       "    </tr>\n",
       "    <tr>\n",
       "      <td>1</td>\n",
       "      <td>110.000000</td>\n",
       "      <td>2.875</td>\n",
       "      <td>1</td>\n",
       "    </tr>\n",
       "    <tr>\n",
       "      <td>2</td>\n",
       "      <td>93.000000</td>\n",
       "      <td>2.320</td>\n",
       "      <td>1</td>\n",
       "    </tr>\n",
       "    <tr>\n",
       "      <td>3</td>\n",
       "      <td>110.000000</td>\n",
       "      <td>3.215</td>\n",
       "      <td>0</td>\n",
       "    </tr>\n",
       "    <tr>\n",
       "      <td>4</td>\n",
       "      <td>175.000000</td>\n",
       "      <td>3.440</td>\n",
       "      <td>0</td>\n",
       "    </tr>\n",
       "    <tr>\n",
       "      <td>5</td>\n",
       "      <td>105.000000</td>\n",
       "      <td>3.460</td>\n",
       "      <td>0</td>\n",
       "    </tr>\n",
       "    <tr>\n",
       "      <td>6</td>\n",
       "      <td>245.000000</td>\n",
       "      <td>3.570</td>\n",
       "      <td>0</td>\n",
       "    </tr>\n",
       "    <tr>\n",
       "      <td>7</td>\n",
       "      <td>62.000000</td>\n",
       "      <td>3.190</td>\n",
       "      <td>0</td>\n",
       "    </tr>\n",
       "    <tr>\n",
       "      <td>8</td>\n",
       "      <td>95.000000</td>\n",
       "      <td>3.150</td>\n",
       "      <td>0</td>\n",
       "    </tr>\n",
       "    <tr>\n",
       "      <td>9</td>\n",
       "      <td>145.206897</td>\n",
       "      <td>3.440</td>\n",
       "      <td>0</td>\n",
       "    </tr>\n",
       "    <tr>\n",
       "      <td>10</td>\n",
       "      <td>123.000000</td>\n",
       "      <td>3.440</td>\n",
       "      <td>0</td>\n",
       "    </tr>\n",
       "    <tr>\n",
       "      <td>11</td>\n",
       "      <td>180.000000</td>\n",
       "      <td>4.070</td>\n",
       "      <td>0</td>\n",
       "    </tr>\n",
       "    <tr>\n",
       "      <td>12</td>\n",
       "      <td>145.206897</td>\n",
       "      <td>3.730</td>\n",
       "      <td>0</td>\n",
       "    </tr>\n",
       "    <tr>\n",
       "      <td>13</td>\n",
       "      <td>145.206897</td>\n",
       "      <td>3.780</td>\n",
       "      <td>0</td>\n",
       "    </tr>\n",
       "    <tr>\n",
       "      <td>14</td>\n",
       "      <td>205.000000</td>\n",
       "      <td>5.250</td>\n",
       "      <td>0</td>\n",
       "    </tr>\n",
       "    <tr>\n",
       "      <td>15</td>\n",
       "      <td>215.000000</td>\n",
       "      <td>5.424</td>\n",
       "      <td>0</td>\n",
       "    </tr>\n",
       "    <tr>\n",
       "      <td>16</td>\n",
       "      <td>230.000000</td>\n",
       "      <td>5.345</td>\n",
       "      <td>0</td>\n",
       "    </tr>\n",
       "    <tr>\n",
       "      <td>17</td>\n",
       "      <td>66.000000</td>\n",
       "      <td>2.200</td>\n",
       "      <td>1</td>\n",
       "    </tr>\n",
       "    <tr>\n",
       "      <td>18</td>\n",
       "      <td>52.000000</td>\n",
       "      <td>1.615</td>\n",
       "      <td>1</td>\n",
       "    </tr>\n",
       "    <tr>\n",
       "      <td>19</td>\n",
       "      <td>65.000000</td>\n",
       "      <td>1.835</td>\n",
       "      <td>1</td>\n",
       "    </tr>\n",
       "    <tr>\n",
       "      <td>20</td>\n",
       "      <td>97.000000</td>\n",
       "      <td>2.465</td>\n",
       "      <td>0</td>\n",
       "    </tr>\n",
       "    <tr>\n",
       "      <td>21</td>\n",
       "      <td>150.000000</td>\n",
       "      <td>3.520</td>\n",
       "      <td>0</td>\n",
       "    </tr>\n",
       "    <tr>\n",
       "      <td>22</td>\n",
       "      <td>150.000000</td>\n",
       "      <td>3.435</td>\n",
       "      <td>0</td>\n",
       "    </tr>\n",
       "    <tr>\n",
       "      <td>23</td>\n",
       "      <td>245.000000</td>\n",
       "      <td>3.840</td>\n",
       "      <td>0</td>\n",
       "    </tr>\n",
       "    <tr>\n",
       "      <td>24</td>\n",
       "      <td>175.000000</td>\n",
       "      <td>3.845</td>\n",
       "      <td>0</td>\n",
       "    </tr>\n",
       "    <tr>\n",
       "      <td>25</td>\n",
       "      <td>66.000000</td>\n",
       "      <td>1.935</td>\n",
       "      <td>1</td>\n",
       "    </tr>\n",
       "    <tr>\n",
       "      <td>26</td>\n",
       "      <td>91.000000</td>\n",
       "      <td>2.140</td>\n",
       "      <td>1</td>\n",
       "    </tr>\n",
       "    <tr>\n",
       "      <td>27</td>\n",
       "      <td>113.000000</td>\n",
       "      <td>1.513</td>\n",
       "      <td>1</td>\n",
       "    </tr>\n",
       "    <tr>\n",
       "      <td>28</td>\n",
       "      <td>264.000000</td>\n",
       "      <td>3.170</td>\n",
       "      <td>1</td>\n",
       "    </tr>\n",
       "    <tr>\n",
       "      <td>29</td>\n",
       "      <td>175.000000</td>\n",
       "      <td>2.770</td>\n",
       "      <td>1</td>\n",
       "    </tr>\n",
       "    <tr>\n",
       "      <td>30</td>\n",
       "      <td>335.000000</td>\n",
       "      <td>3.570</td>\n",
       "      <td>1</td>\n",
       "    </tr>\n",
       "    <tr>\n",
       "      <td>31</td>\n",
       "      <td>109.000000</td>\n",
       "      <td>2.780</td>\n",
       "      <td>1</td>\n",
       "    </tr>\n",
       "  </tbody>\n",
       "</table>\n",
       "</div>"
      ],
      "text/plain": [
       "            HP     Wt  AM\n",
       "0   110.000000  2.620   1\n",
       "1   110.000000  2.875   1\n",
       "2    93.000000  2.320   1\n",
       "3   110.000000  3.215   0\n",
       "4   175.000000  3.440   0\n",
       "5   105.000000  3.460   0\n",
       "6   245.000000  3.570   0\n",
       "7    62.000000  3.190   0\n",
       "8    95.000000  3.150   0\n",
       "9   145.206897  3.440   0\n",
       "10  123.000000  3.440   0\n",
       "11  180.000000  4.070   0\n",
       "12  145.206897  3.730   0\n",
       "13  145.206897  3.780   0\n",
       "14  205.000000  5.250   0\n",
       "15  215.000000  5.424   0\n",
       "16  230.000000  5.345   0\n",
       "17   66.000000  2.200   1\n",
       "18   52.000000  1.615   1\n",
       "19   65.000000  1.835   1\n",
       "20   97.000000  2.465   0\n",
       "21  150.000000  3.520   0\n",
       "22  150.000000  3.435   0\n",
       "23  245.000000  3.840   0\n",
       "24  175.000000  3.845   0\n",
       "25   66.000000  1.935   1\n",
       "26   91.000000  2.140   1\n",
       "27  113.000000  1.513   1\n",
       "28  264.000000  3.170   1\n",
       "29  175.000000  2.770   1\n",
       "30  335.000000  3.570   1\n",
       "31  109.000000  2.780   1"
      ]
     },
     "execution_count": 13,
     "metadata": {},
     "output_type": "execute_result"
    }
   ],
   "source": [
    "X = cars.loc[:,['HP','Wt','AM']]\n",
    "X"
   ]
  },
  {
   "cell_type": "code",
   "execution_count": 14,
   "metadata": {},
   "outputs": [
    {
     "data": {
      "text/plain": [
       "0     21.0\n",
       "1     21.0\n",
       "2     22.8\n",
       "3     21.4\n",
       "4     18.7\n",
       "5     18.1\n",
       "6     14.3\n",
       "7     24.4\n",
       "8     22.8\n",
       "9     19.2\n",
       "10    17.8\n",
       "11    16.4\n",
       "12    17.3\n",
       "13    15.2\n",
       "14    10.4\n",
       "15    10.4\n",
       "16    14.7\n",
       "17    32.4\n",
       "18    30.4\n",
       "19    33.9\n",
       "20    21.5\n",
       "21    15.5\n",
       "22    15.2\n",
       "23    13.3\n",
       "24    19.2\n",
       "25    27.3\n",
       "26    26.0\n",
       "27    30.4\n",
       "28    15.8\n",
       "29    19.7\n",
       "30    15.0\n",
       "31    21.4\n",
       "Name: MPG, dtype: float64"
      ]
     },
     "execution_count": 14,
     "metadata": {},
     "output_type": "execute_result"
    }
   ],
   "source": [
    "y = cars.MPG\n",
    "y"
   ]
  },
  {
   "cell_type": "code",
   "execution_count": 15,
   "metadata": {
    "colab": {},
    "colab_type": "code",
    "id": "tKES2H2eYHB3"
   },
   "outputs": [],
   "source": [
    "# training and testing model selection\n",
    "from sklearn.model_selection import train_test_split"
   ]
  },
  {
   "cell_type": "code",
   "execution_count": 16,
   "metadata": {
    "colab": {},
    "colab_type": "code",
    "id": "5qIP73QdYHB8"
   },
   "outputs": [],
   "source": [
    "X_train, X_test, y_train, y_test = train_test_split(X,y,test_size = 0.20,random_state=1000)"
   ]
  },
  {
   "cell_type": "code",
   "execution_count": 17,
   "metadata": {
    "colab": {},
    "colab_type": "code",
    "id": "HpQCvMrQYHCC",
    "outputId": "e9d04645-79f2-45a8-bb02-689d853a13ee",
    "scrolled": true
   },
   "outputs": [
    {
     "name": "stdout",
     "output_type": "stream",
     "text": [
      "X_train shape (25, 3)\n",
      "X_test shape (7, 3)\n",
      "y_train shape (25,)\n",
      "y_test shape (7,)\n"
     ]
    }
   ],
   "source": [
    "print(\"X_train shape\", X_train.shape)\n",
    "print(\"X_test shape\", X_test.shape)\n",
    "print(\"y_train shape\", y_train.shape)\n",
    "print(\"y_test shape\", y_test.shape)"
   ]
  },
  {
   "cell_type": "code",
   "execution_count": 18,
   "metadata": {
    "colab": {},
    "colab_type": "code",
    "id": "Uxy5PnnrYHCK"
   },
   "outputs": [],
   "source": [
    "# Importing machine learning algorithm\n",
    "from sklearn.linear_model import LinearRegression"
   ]
  },
  {
   "cell_type": "code",
   "execution_count": 19,
   "metadata": {
    "colab": {},
    "colab_type": "code",
    "id": "hOVWtoMAYHCU"
   },
   "outputs": [],
   "source": [
    "model = LinearRegression()"
   ]
  },
  {
   "cell_type": "code",
   "execution_count": 20,
   "metadata": {
    "colab": {},
    "colab_type": "code",
    "id": "5K8uTLYEYHCc",
    "outputId": "6dd0a8eb-74fb-4f45-babf-055b107eec59"
   },
   "outputs": [
    {
     "data": {
      "text/plain": [
       "LinearRegression(copy_X=True, fit_intercept=True, n_jobs=None, normalize=False)"
      ]
     },
     "execution_count": 20,
     "metadata": {},
     "output_type": "execute_result"
    }
   ],
   "source": [
    "model.fit(X_train,y_train)"
   ]
  },
  {
   "cell_type": "code",
   "execution_count": 21,
   "metadata": {
    "colab": {},
    "colab_type": "code",
    "id": "boRPT6ghYHCk"
   },
   "outputs": [
    {
     "data": {
      "text/plain": [
       "array([14.83304283, 26.75111243, 28.27401991, 20.6675491 , 29.77879309,\n",
       "       21.82095796, 23.50361988])"
      ]
     },
     "execution_count": 21,
     "metadata": {},
     "output_type": "execute_result"
    }
   ],
   "source": [
    "y_predict = model.predict(X_test)\n",
    "y_predict"
   ]
  },
  {
   "cell_type": "code",
   "execution_count": 22,
   "metadata": {
    "colab": {},
    "colab_type": "code",
    "id": "onHuSVHjYHCq"
   },
   "outputs": [],
   "source": [
    "# Model evaluation \n",
    "from sklearn.metrics import r2_score, accuracy_score\n",
    "from sklearn import metrics"
   ]
  },
  {
   "cell_type": "code",
   "execution_count": 23,
   "metadata": {
    "colab": {},
    "colab_type": "code",
    "id": "2n9r0pQeYHCx",
    "outputId": "e74820a5-0dd7-4f30-a20e-162ceac5cc83"
   },
   "outputs": [
    {
     "data": {
      "text/plain": [
       "0.9353038715381993"
      ]
     },
     "execution_count": 23,
     "metadata": {},
     "output_type": "execute_result"
    }
   ],
   "source": [
    "r2_score(y_test,y_predict)"
   ]
  },
  {
   "cell_type": "code",
   "execution_count": 24,
   "metadata": {
    "colab": {},
    "colab_type": "code",
    "id": "nWiAegVQYHC5",
    "outputId": "0e069be3-c487-409a-88ab-23aa065477b8"
   },
   "outputs": [
    {
     "data": {
      "text/plain": [
       "6     14.3\n",
       "26    26.0\n",
       "25    27.3\n",
       "3     21.4\n",
       "18    30.4\n",
       "29    19.7\n",
       "20    21.5\n",
       "Name: MPG, dtype: float64"
      ]
     },
     "execution_count": 24,
     "metadata": {},
     "output_type": "execute_result"
    }
   ],
   "source": [
    "y_test"
   ]
  },
  {
   "cell_type": "code",
   "execution_count": 25,
   "metadata": {
    "colab": {},
    "colab_type": "code",
    "id": "yE2PX7vWYHDB",
    "outputId": "c850df41-768f-401b-a376-714dc6e1a7cf"
   },
   "outputs": [
    {
     "data": {
      "text/plain": [
       "array([14.83304283, 26.75111243, 28.27401991, 20.6675491 , 29.77879309,\n",
       "       21.82095796, 23.50361988])"
      ]
     },
     "execution_count": 25,
     "metadata": {},
     "output_type": "execute_result"
    }
   ],
   "source": [
    "y_predict"
   ]
  },
  {
   "cell_type": "code",
   "execution_count": 26,
   "metadata": {},
   "outputs": [
    {
     "name": "stdout",
     "output_type": "stream",
     "text": [
      "MAE: 1.105201547329933\n",
      "MSE: 1.6046224253509318\n",
      "RMSE: 1.266736920339394\n"
     ]
    }
   ],
   "source": [
    "print('MAE:', metrics.mean_absolute_error(y_test, y_predict))\n",
    "print('MSE:', metrics.mean_squared_error(y_test,y_predict))\n",
    "print('RMSE:', np.sqrt(metrics.mean_squared_error(y_test, y_predict)))"
   ]
  },
  {
   "cell_type": "code",
   "execution_count": null,
   "metadata": {},
   "outputs": [],
   "source": [
    "predictions = model_lr.predict(X_test)"
   ]
  },
  {
   "cell_type": "code",
   "execution_count": 27,
   "metadata": {
    "colab": {},
    "colab_type": "code",
    "id": "dTXAY853YHDN",
    "outputId": "80697fd2-d5fc-48f3-afba-fdb0baa6cc4e"
   },
   "outputs": [
    {
     "data": {
      "text/plain": [
       "<matplotlib.collections.PathCollection at 0x1b1ed5f2b88>"
      ]
     },
     "execution_count": 27,
     "metadata": {},
     "output_type": "execute_result"
    },
    {
     "data": {
      "image/png": "[encoded data removed]",
      "text/plain": [
       "<Figure size 432x288 with 1 Axes>"
      ]
     },
     "metadata": {
      "needs_background": "light"
     },
     "output_type": "display_data"
    }
   ],
   "source": [
    "plt.scatter(y_test,y_predict)"
   ]
  },
  {
   "cell_type": "code",
   "execution_count": null,
   "metadata": {
    "colab": {},
    "colab_type": "code",
    "id": "FMdgdsRvYHDX",
    "outputId": "b52585ee-094b-44b1-afe1-23f431325b7e"
   },
   "outputs": [],
   "source": [
    "print('MAE:', metrics.mean_absolute_error(y_test, predictions))\n",
    "print('MSE:', metrics.mean_squared_error(y_test, predictions))\n",
    "print('RMSE:', np.sqrt(metrics.mean_squared_error(y_test, predictions)))"
   ]
  },
  {
   "cell_type": "markdown",
   "metadata": {
    "colab_type": "raw",
    "id": "JbitTU6oYHDf"
   },
   "source": [
    "In the above model we have not done any data cleaning and preprocessing hence we got a bad score.\n",
    "\n",
    "now, lets do some data cleaning and do the training and prediction."
   ]
  },
  {
   "cell_type": "markdown",
   "metadata": {
    "colab_type": "text",
    "id": "I8dxWo80YHDg"
   },
   "source": [
    "# Data Cleaning"
   ]
  },
  {
   "cell_type": "code",
   "execution_count": 28,
   "metadata": {
    "colab": {},
    "colab_type": "code",
    "id": "vAjgIn4eYHDh"
   },
   "outputs": [
    {
     "data": {
      "text/plain": [
       "<matplotlib.axes._subplots.AxesSubplot at 0x1b1ed5f2d08>"
      ]
     },
     "execution_count": 28,
     "metadata": {},
     "output_type": "execute_result"
    },
    {
     "data": {
      "image/png": "[encoded data removed]",
      "text/plain": [
       "<Figure size 432x288 with 1 Axes>"
      ]
     },
     "metadata": {
      "needs_background": "light"
     },
     "output_type": "display_data"
    }
   ],
   "source": [
    "#Outlier analsis\n",
    "cars.HP.plot(kind=\"box\")\n",
    "#the circle is the outlier and we see that its value is above 300"
   ]
  },
  {
   "cell_type": "code",
   "execution_count": 29,
   "metadata": {
    "colab": {},
    "colab_type": "code",
    "id": "FEnkbdSQYHDo"
   },
   "outputs": [
    {
     "data": {
      "text/html": [
       "<div>\n",
       "<style scoped>\n",
       "    .dataframe tbody tr th:only-of-type {\n",
       "        vertical-align: middle;\n",
       "    }\n",
       "\n",
       "    .dataframe tbody tr th {\n",
       "        vertical-align: top;\n",
       "    }\n",
       "\n",
       "    .dataframe thead th {\n",
       "        text-align: right;\n",
       "    }\n",
       "</style>\n",
       "<table border=\"1\" class=\"dataframe\">\n",
       "  <thead>\n",
       "    <tr style=\"text-align: right;\">\n",
       "      <th></th>\n",
       "      <th>Model</th>\n",
       "      <th>MPG</th>\n",
       "      <th>Cylinder</th>\n",
       "      <th>Disp</th>\n",
       "      <th>HP</th>\n",
       "      <th>Drat</th>\n",
       "      <th>Wt</th>\n",
       "      <th>Qsec</th>\n",
       "      <th>VS</th>\n",
       "      <th>AM</th>\n",
       "      <th>Gear</th>\n",
       "      <th>Carb</th>\n",
       "    </tr>\n",
       "  </thead>\n",
       "  <tbody>\n",
       "    <tr>\n",
       "      <td>30</td>\n",
       "      <td>Maserati Bora</td>\n",
       "      <td>15.0</td>\n",
       "      <td>8</td>\n",
       "      <td>301.0</td>\n",
       "      <td>335.0</td>\n",
       "      <td>3.54</td>\n",
       "      <td>3.57</td>\n",
       "      <td>14.6</td>\n",
       "      <td>0</td>\n",
       "      <td>1</td>\n",
       "      <td>5</td>\n",
       "      <td>8</td>\n",
       "    </tr>\n",
       "  </tbody>\n",
       "</table>\n",
       "</div>"
      ],
      "text/plain": [
       "           Model    MPG  Cylinder   Disp     HP  Drat    Wt  Qsec  VS  AM  \\\n",
       "30  Maserati Bora  15.0         8  301.0  335.0  3.54  3.57  14.6   0   1   \n",
       "\n",
       "    Gear  Carb  \n",
       "30     5     8  "
      ]
     },
     "execution_count": 29,
     "metadata": {},
     "output_type": "execute_result"
    }
   ],
   "source": [
    "#we check if there is any value of HP that is above 300\n",
    "cars[cars.HP==cars.HP.max()]"
   ]
  },
  {
   "cell_type": "code",
   "execution_count": 30,
   "metadata": {
    "colab": {},
    "colab_type": "code",
    "id": "jKAo0sxWYHDv"
   },
   "outputs": [],
   "source": [
    "cars_final = cars.drop(index=30)"
   ]
  },
  {
   "cell_type": "code",
   "execution_count": 31,
   "metadata": {
    "colab": {},
    "colab_type": "code",
    "id": "pk3zZnJcYHD3"
   },
   "outputs": [
    {
     "data": {
      "text/html": [
       "<div>\n",
       "<style scoped>\n",
       "    .dataframe tbody tr th:only-of-type {\n",
       "        vertical-align: middle;\n",
       "    }\n",
       "\n",
       "    .dataframe tbody tr th {\n",
       "        vertical-align: top;\n",
       "    }\n",
       "\n",
       "    .dataframe thead th {\n",
       "        text-align: right;\n",
       "    }\n",
       "</style>\n",
       "<table border=\"1\" class=\"dataframe\">\n",
       "  <thead>\n",
       "    <tr style=\"text-align: right;\">\n",
       "      <th></th>\n",
       "      <th>Model</th>\n",
       "      <th>MPG</th>\n",
       "      <th>Cylinder</th>\n",
       "      <th>Disp</th>\n",
       "      <th>HP</th>\n",
       "      <th>Drat</th>\n",
       "      <th>Wt</th>\n",
       "      <th>Qsec</th>\n",
       "      <th>VS</th>\n",
       "      <th>AM</th>\n",
       "      <th>Gear</th>\n",
       "      <th>Carb</th>\n",
       "    </tr>\n",
       "  </thead>\n",
       "  <tbody>\n",
       "    <tr>\n",
       "      <td>0</td>\n",
       "      <td>Mazda RX4</td>\n",
       "      <td>21.0</td>\n",
       "      <td>6</td>\n",
       "      <td>160.000000</td>\n",
       "      <td>110.000000</td>\n",
       "      <td>3.90</td>\n",
       "      <td>2.620</td>\n",
       "      <td>16.46</td>\n",
       "      <td>0</td>\n",
       "      <td>1</td>\n",
       "      <td>4</td>\n",
       "      <td>4</td>\n",
       "    </tr>\n",
       "    <tr>\n",
       "      <td>1</td>\n",
       "      <td>Mazda RX4 Wag</td>\n",
       "      <td>21.0</td>\n",
       "      <td>6</td>\n",
       "      <td>160.000000</td>\n",
       "      <td>110.000000</td>\n",
       "      <td>3.90</td>\n",
       "      <td>2.875</td>\n",
       "      <td>17.02</td>\n",
       "      <td>0</td>\n",
       "      <td>1</td>\n",
       "      <td>4</td>\n",
       "      <td>4</td>\n",
       "    </tr>\n",
       "    <tr>\n",
       "      <td>2</td>\n",
       "      <td>Datsun 710</td>\n",
       "      <td>22.8</td>\n",
       "      <td>4</td>\n",
       "      <td>108.000000</td>\n",
       "      <td>93.000000</td>\n",
       "      <td>3.85</td>\n",
       "      <td>2.320</td>\n",
       "      <td>18.61</td>\n",
       "      <td>1</td>\n",
       "      <td>1</td>\n",
       "      <td>4</td>\n",
       "      <td>1</td>\n",
       "    </tr>\n",
       "    <tr>\n",
       "      <td>3</td>\n",
       "      <td>Hornet 4 Drive</td>\n",
       "      <td>21.4</td>\n",
       "      <td>6</td>\n",
       "      <td>258.000000</td>\n",
       "      <td>110.000000</td>\n",
       "      <td>3.08</td>\n",
       "      <td>3.215</td>\n",
       "      <td>19.44</td>\n",
       "      <td>1</td>\n",
       "      <td>0</td>\n",
       "      <td>3</td>\n",
       "      <td>1</td>\n",
       "    </tr>\n",
       "    <tr>\n",
       "      <td>4</td>\n",
       "      <td>Hornet Sportabout</td>\n",
       "      <td>18.7</td>\n",
       "      <td>8</td>\n",
       "      <td>360.000000</td>\n",
       "      <td>175.000000</td>\n",
       "      <td>3.15</td>\n",
       "      <td>3.440</td>\n",
       "      <td>17.02</td>\n",
       "      <td>0</td>\n",
       "      <td>0</td>\n",
       "      <td>3</td>\n",
       "      <td>2</td>\n",
       "    </tr>\n",
       "    <tr>\n",
       "      <td>5</td>\n",
       "      <td>Valiant</td>\n",
       "      <td>18.1</td>\n",
       "      <td>6</td>\n",
       "      <td>225.000000</td>\n",
       "      <td>105.000000</td>\n",
       "      <td>2.76</td>\n",
       "      <td>3.460</td>\n",
       "      <td>20.22</td>\n",
       "      <td>1</td>\n",
       "      <td>0</td>\n",
       "      <td>3</td>\n",
       "      <td>1</td>\n",
       "    </tr>\n",
       "    <tr>\n",
       "      <td>6</td>\n",
       "      <td>Duster 360</td>\n",
       "      <td>14.3</td>\n",
       "      <td>8</td>\n",
       "      <td>360.000000</td>\n",
       "      <td>245.000000</td>\n",
       "      <td>3.21</td>\n",
       "      <td>3.570</td>\n",
       "      <td>15.84</td>\n",
       "      <td>0</td>\n",
       "      <td>0</td>\n",
       "      <td>3</td>\n",
       "      <td>4</td>\n",
       "    </tr>\n",
       "    <tr>\n",
       "      <td>7</td>\n",
       "      <td>Merc 240D</td>\n",
       "      <td>24.4</td>\n",
       "      <td>4</td>\n",
       "      <td>146.700000</td>\n",
       "      <td>62.000000</td>\n",
       "      <td>3.69</td>\n",
       "      <td>3.190</td>\n",
       "      <td>20.00</td>\n",
       "      <td>1</td>\n",
       "      <td>0</td>\n",
       "      <td>4</td>\n",
       "      <td>2</td>\n",
       "    </tr>\n",
       "    <tr>\n",
       "      <td>8</td>\n",
       "      <td>Merc 230</td>\n",
       "      <td>22.8</td>\n",
       "      <td>4</td>\n",
       "      <td>140.800000</td>\n",
       "      <td>95.000000</td>\n",
       "      <td>3.92</td>\n",
       "      <td>3.150</td>\n",
       "      <td>22.90</td>\n",
       "      <td>1</td>\n",
       "      <td>0</td>\n",
       "      <td>4</td>\n",
       "      <td>2</td>\n",
       "    </tr>\n",
       "    <tr>\n",
       "      <td>9</td>\n",
       "      <td>Merc 280</td>\n",
       "      <td>19.2</td>\n",
       "      <td>6</td>\n",
       "      <td>229.789655</td>\n",
       "      <td>145.206897</td>\n",
       "      <td>3.92</td>\n",
       "      <td>3.440</td>\n",
       "      <td>18.30</td>\n",
       "      <td>1</td>\n",
       "      <td>0</td>\n",
       "      <td>4</td>\n",
       "      <td>4</td>\n",
       "    </tr>\n",
       "    <tr>\n",
       "      <td>10</td>\n",
       "      <td>Merc 280C</td>\n",
       "      <td>17.8</td>\n",
       "      <td>6</td>\n",
       "      <td>167.600000</td>\n",
       "      <td>123.000000</td>\n",
       "      <td>3.92</td>\n",
       "      <td>3.440</td>\n",
       "      <td>18.90</td>\n",
       "      <td>1</td>\n",
       "      <td>0</td>\n",
       "      <td>4</td>\n",
       "      <td>4</td>\n",
       "    </tr>\n",
       "    <tr>\n",
       "      <td>11</td>\n",
       "      <td>Merc 450SE</td>\n",
       "      <td>16.4</td>\n",
       "      <td>8</td>\n",
       "      <td>229.789655</td>\n",
       "      <td>180.000000</td>\n",
       "      <td>3.07</td>\n",
       "      <td>4.070</td>\n",
       "      <td>17.40</td>\n",
       "      <td>0</td>\n",
       "      <td>0</td>\n",
       "      <td>3</td>\n",
       "      <td>3</td>\n",
       "    </tr>\n",
       "    <tr>\n",
       "      <td>12</td>\n",
       "      <td>Merc 450SL</td>\n",
       "      <td>17.3</td>\n",
       "      <td>8</td>\n",
       "      <td>229.789655</td>\n",
       "      <td>145.206897</td>\n",
       "      <td>3.07</td>\n",
       "      <td>3.730</td>\n",
       "      <td>17.60</td>\n",
       "      <td>0</td>\n",
       "      <td>0</td>\n",
       "      <td>3</td>\n",
       "      <td>3</td>\n",
       "    </tr>\n",
       "    <tr>\n",
       "      <td>13</td>\n",
       "      <td>Merc 450SLC</td>\n",
       "      <td>15.2</td>\n",
       "      <td>8</td>\n",
       "      <td>275.800000</td>\n",
       "      <td>145.206897</td>\n",
       "      <td>3.07</td>\n",
       "      <td>3.780</td>\n",
       "      <td>18.00</td>\n",
       "      <td>0</td>\n",
       "      <td>0</td>\n",
       "      <td>3</td>\n",
       "      <td>3</td>\n",
       "    </tr>\n",
       "    <tr>\n",
       "      <td>14</td>\n",
       "      <td>Cadillac Fleetwood</td>\n",
       "      <td>10.4</td>\n",
       "      <td>8</td>\n",
       "      <td>472.000000</td>\n",
       "      <td>205.000000</td>\n",
       "      <td>2.93</td>\n",
       "      <td>5.250</td>\n",
       "      <td>17.98</td>\n",
       "      <td>0</td>\n",
       "      <td>0</td>\n",
       "      <td>3</td>\n",
       "      <td>4</td>\n",
       "    </tr>\n",
       "    <tr>\n",
       "      <td>15</td>\n",
       "      <td>Lincoln Continental</td>\n",
       "      <td>10.4</td>\n",
       "      <td>8</td>\n",
       "      <td>460.000000</td>\n",
       "      <td>215.000000</td>\n",
       "      <td>3.00</td>\n",
       "      <td>5.424</td>\n",
       "      <td>17.82</td>\n",
       "      <td>0</td>\n",
       "      <td>0</td>\n",
       "      <td>3</td>\n",
       "      <td>4</td>\n",
       "    </tr>\n",
       "    <tr>\n",
       "      <td>16</td>\n",
       "      <td>Chrysler Imperial</td>\n",
       "      <td>14.7</td>\n",
       "      <td>8</td>\n",
       "      <td>440.000000</td>\n",
       "      <td>230.000000</td>\n",
       "      <td>3.23</td>\n",
       "      <td>5.345</td>\n",
       "      <td>17.42</td>\n",
       "      <td>0</td>\n",
       "      <td>0</td>\n",
       "      <td>3</td>\n",
       "      <td>4</td>\n",
       "    </tr>\n",
       "    <tr>\n",
       "      <td>17</td>\n",
       "      <td>Fiat 128</td>\n",
       "      <td>32.4</td>\n",
       "      <td>4</td>\n",
       "      <td>78.700000</td>\n",
       "      <td>66.000000</td>\n",
       "      <td>4.08</td>\n",
       "      <td>2.200</td>\n",
       "      <td>19.47</td>\n",
       "      <td>1</td>\n",
       "      <td>1</td>\n",
       "      <td>4</td>\n",
       "      <td>1</td>\n",
       "    </tr>\n",
       "    <tr>\n",
       "      <td>18</td>\n",
       "      <td>Honda Civic</td>\n",
       "      <td>30.4</td>\n",
       "      <td>4</td>\n",
       "      <td>75.700000</td>\n",
       "      <td>52.000000</td>\n",
       "      <td>4.93</td>\n",
       "      <td>1.615</td>\n",
       "      <td>18.52</td>\n",
       "      <td>1</td>\n",
       "      <td>1</td>\n",
       "      <td>4</td>\n",
       "      <td>2</td>\n",
       "    </tr>\n",
       "    <tr>\n",
       "      <td>19</td>\n",
       "      <td>Toyota Corolla</td>\n",
       "      <td>33.9</td>\n",
       "      <td>4</td>\n",
       "      <td>71.100000</td>\n",
       "      <td>65.000000</td>\n",
       "      <td>4.22</td>\n",
       "      <td>1.835</td>\n",
       "      <td>19.90</td>\n",
       "      <td>1</td>\n",
       "      <td>1</td>\n",
       "      <td>4</td>\n",
       "      <td>1</td>\n",
       "    </tr>\n",
       "    <tr>\n",
       "      <td>20</td>\n",
       "      <td>Toyota Corona</td>\n",
       "      <td>21.5</td>\n",
       "      <td>4</td>\n",
       "      <td>120.100000</td>\n",
       "      <td>97.000000</td>\n",
       "      <td>3.70</td>\n",
       "      <td>2.465</td>\n",
       "      <td>20.01</td>\n",
       "      <td>1</td>\n",
       "      <td>0</td>\n",
       "      <td>3</td>\n",
       "      <td>1</td>\n",
       "    </tr>\n",
       "    <tr>\n",
       "      <td>21</td>\n",
       "      <td>Dodge Challenger</td>\n",
       "      <td>15.5</td>\n",
       "      <td>8</td>\n",
       "      <td>318.000000</td>\n",
       "      <td>150.000000</td>\n",
       "      <td>2.76</td>\n",
       "      <td>3.520</td>\n",
       "      <td>16.87</td>\n",
       "      <td>0</td>\n",
       "      <td>0</td>\n",
       "      <td>3</td>\n",
       "      <td>2</td>\n",
       "    </tr>\n",
       "    <tr>\n",
       "      <td>22</td>\n",
       "      <td>AMC Javelin</td>\n",
       "      <td>15.2</td>\n",
       "      <td>8</td>\n",
       "      <td>304.000000</td>\n",
       "      <td>150.000000</td>\n",
       "      <td>3.15</td>\n",
       "      <td>3.435</td>\n",
       "      <td>17.30</td>\n",
       "      <td>0</td>\n",
       "      <td>0</td>\n",
       "      <td>3</td>\n",
       "      <td>2</td>\n",
       "    </tr>\n",
       "    <tr>\n",
       "      <td>23</td>\n",
       "      <td>Camaro Z28</td>\n",
       "      <td>13.3</td>\n",
       "      <td>8</td>\n",
       "      <td>350.000000</td>\n",
       "      <td>245.000000</td>\n",
       "      <td>3.73</td>\n",
       "      <td>3.840</td>\n",
       "      <td>15.41</td>\n",
       "      <td>0</td>\n",
       "      <td>0</td>\n",
       "      <td>3</td>\n",
       "      <td>4</td>\n",
       "    </tr>\n",
       "    <tr>\n",
       "      <td>24</td>\n",
       "      <td>Pontiac Firebird</td>\n",
       "      <td>19.2</td>\n",
       "      <td>8</td>\n",
       "      <td>400.000000</td>\n",
       "      <td>175.000000</td>\n",
       "      <td>3.08</td>\n",
       "      <td>3.845</td>\n",
       "      <td>17.05</td>\n",
       "      <td>0</td>\n",
       "      <td>0</td>\n",
       "      <td>3</td>\n",
       "      <td>2</td>\n",
       "    </tr>\n",
       "    <tr>\n",
       "      <td>25</td>\n",
       "      <td>Fiat X1-9</td>\n",
       "      <td>27.3</td>\n",
       "      <td>4</td>\n",
       "      <td>79.000000</td>\n",
       "      <td>66.000000</td>\n",
       "      <td>4.08</td>\n",
       "      <td>1.935</td>\n",
       "      <td>18.90</td>\n",
       "      <td>1</td>\n",
       "      <td>1</td>\n",
       "      <td>4</td>\n",
       "      <td>1</td>\n",
       "    </tr>\n",
       "    <tr>\n",
       "      <td>26</td>\n",
       "      <td>Porsche 914-2</td>\n",
       "      <td>26.0</td>\n",
       "      <td>4</td>\n",
       "      <td>120.300000</td>\n",
       "      <td>91.000000</td>\n",
       "      <td>4.43</td>\n",
       "      <td>2.140</td>\n",
       "      <td>16.70</td>\n",
       "      <td>0</td>\n",
       "      <td>1</td>\n",
       "      <td>5</td>\n",
       "      <td>2</td>\n",
       "    </tr>\n",
       "    <tr>\n",
       "      <td>27</td>\n",
       "      <td>Lotus Europa</td>\n",
       "      <td>30.4</td>\n",
       "      <td>4</td>\n",
       "      <td>95.100000</td>\n",
       "      <td>113.000000</td>\n",
       "      <td>3.77</td>\n",
       "      <td>1.513</td>\n",
       "      <td>16.90</td>\n",
       "      <td>1</td>\n",
       "      <td>1</td>\n",
       "      <td>5</td>\n",
       "      <td>2</td>\n",
       "    </tr>\n",
       "    <tr>\n",
       "      <td>28</td>\n",
       "      <td>Ford Pantera L</td>\n",
       "      <td>15.8</td>\n",
       "      <td>8</td>\n",
       "      <td>351.000000</td>\n",
       "      <td>264.000000</td>\n",
       "      <td>4.22</td>\n",
       "      <td>3.170</td>\n",
       "      <td>14.50</td>\n",
       "      <td>0</td>\n",
       "      <td>1</td>\n",
       "      <td>5</td>\n",
       "      <td>4</td>\n",
       "    </tr>\n",
       "    <tr>\n",
       "      <td>29</td>\n",
       "      <td>Ferrari Dino</td>\n",
       "      <td>19.7</td>\n",
       "      <td>6</td>\n",
       "      <td>145.000000</td>\n",
       "      <td>175.000000</td>\n",
       "      <td>3.62</td>\n",
       "      <td>2.770</td>\n",
       "      <td>15.50</td>\n",
       "      <td>0</td>\n",
       "      <td>1</td>\n",
       "      <td>5</td>\n",
       "      <td>6</td>\n",
       "    </tr>\n",
       "    <tr>\n",
       "      <td>31</td>\n",
       "      <td>Volvo 142E</td>\n",
       "      <td>21.4</td>\n",
       "      <td>4</td>\n",
       "      <td>121.000000</td>\n",
       "      <td>109.000000</td>\n",
       "      <td>4.11</td>\n",
       "      <td>2.780</td>\n",
       "      <td>18.60</td>\n",
       "      <td>1</td>\n",
       "      <td>1</td>\n",
       "      <td>4</td>\n",
       "      <td>2</td>\n",
       "    </tr>\n",
       "  </tbody>\n",
       "</table>\n",
       "</div>"
      ],
      "text/plain": [
       "                 Model    MPG  Cylinder        Disp          HP  Drat     Wt  \\\n",
       "0             Mazda RX4  21.0         6  160.000000  110.000000  3.90  2.620   \n",
       "1         Mazda RX4 Wag  21.0         6  160.000000  110.000000  3.90  2.875   \n",
       "2            Datsun 710  22.8         4  108.000000   93.000000  3.85  2.320   \n",
       "3        Hornet 4 Drive  21.4         6  258.000000  110.000000  3.08  3.215   \n",
       "4     Hornet Sportabout  18.7         8  360.000000  175.000000  3.15  3.440   \n",
       "5               Valiant  18.1         6  225.000000  105.000000  2.76  3.460   \n",
       "6            Duster 360  14.3         8  360.000000  245.000000  3.21  3.570   \n",
       "7             Merc 240D  24.4         4  146.700000   62.000000  3.69  3.190   \n",
       "8              Merc 230  22.8         4  140.800000   95.000000  3.92  3.150   \n",
       "9              Merc 280  19.2         6  229.789655  145.206897  3.92  3.440   \n",
       "10            Merc 280C  17.8         6  167.600000  123.000000  3.92  3.440   \n",
       "11           Merc 450SE  16.4         8  229.789655  180.000000  3.07  4.070   \n",
       "12           Merc 450SL  17.3         8  229.789655  145.206897  3.07  3.730   \n",
       "13          Merc 450SLC  15.2         8  275.800000  145.206897  3.07  3.780   \n",
       "14   Cadillac Fleetwood  10.4         8  472.000000  205.000000  2.93  5.250   \n",
       "15  Lincoln Continental  10.4         8  460.000000  215.000000  3.00  5.424   \n",
       "16    Chrysler Imperial  14.7         8  440.000000  230.000000  3.23  5.345   \n",
       "17             Fiat 128  32.4         4   78.700000   66.000000  4.08  2.200   \n",
       "18          Honda Civic  30.4         4   75.700000   52.000000  4.93  1.615   \n",
       "19       Toyota Corolla  33.9         4   71.100000   65.000000  4.22  1.835   \n",
       "20        Toyota Corona  21.5         4  120.100000   97.000000  3.70  2.465   \n",
       "21     Dodge Challenger  15.5         8  318.000000  150.000000  2.76  3.520   \n",
       "22          AMC Javelin  15.2         8  304.000000  150.000000  3.15  3.435   \n",
       "23           Camaro Z28  13.3         8  350.000000  245.000000  3.73  3.840   \n",
       "24     Pontiac Firebird  19.2         8  400.000000  175.000000  3.08  3.845   \n",
       "25            Fiat X1-9  27.3         4   79.000000   66.000000  4.08  1.935   \n",
       "26        Porsche 914-2  26.0         4  120.300000   91.000000  4.43  2.140   \n",
       "27         Lotus Europa  30.4         4   95.100000  113.000000  3.77  1.513   \n",
       "28       Ford Pantera L  15.8         8  351.000000  264.000000  4.22  3.170   \n",
       "29         Ferrari Dino  19.7         6  145.000000  175.000000  3.62  2.770   \n",
       "31           Volvo 142E  21.4         4  121.000000  109.000000  4.11  2.780   \n",
       "\n",
       "     Qsec  VS  AM  Gear  Carb  \n",
       "0   16.46   0   1     4     4  \n",
       "1   17.02   0   1     4     4  \n",
       "2   18.61   1   1     4     1  \n",
       "3   19.44   1   0     3     1  \n",
       "4   17.02   0   0     3     2  \n",
       "5   20.22   1   0     3     1  \n",
       "6   15.84   0   0     3     4  \n",
       "7   20.00   1   0     4     2  \n",
       "8   22.90   1   0     4     2  \n",
       "9   18.30   1   0     4     4  \n",
       "10  18.90   1   0     4     4  \n",
       "11  17.40   0   0     3     3  \n",
       "12  17.60   0   0     3     3  \n",
       "13  18.00   0   0     3     3  \n",
       "14  17.98   0   0     3     4  \n",
       "15  17.82   0   0     3     4  \n",
       "16  17.42   0   0     3     4  \n",
       "17  19.47   1   1     4     1  \n",
       "18  18.52   1   1     4     2  \n",
       "19  19.90   1   1     4     1  \n",
       "20  20.01   1   0     3     1  \n",
       "21  16.87   0   0     3     2  \n",
       "22  17.30   0   0     3     2  \n",
       "23  15.41   0   0     3     4  \n",
       "24  17.05   0   0     3     2  \n",
       "25  18.90   1   1     4     1  \n",
       "26  16.70   0   1     5     2  \n",
       "27  16.90   1   1     5     2  \n",
       "28  14.50   0   1     5     4  \n",
       "29  15.50   0   1     5     6  \n",
       "31  18.60   1   1     4     2  "
      ]
     },
     "execution_count": 31,
     "metadata": {},
     "output_type": "execute_result"
    }
   ],
   "source": [
    "cars_final"
   ]
  },
  {
   "cell_type": "code",
   "execution_count": 32,
   "metadata": {
    "colab": {},
    "colab_type": "code",
    "id": "TB3DjvsWYHD9"
   },
   "outputs": [],
   "source": [
    "X = cars_final.loc[:,['HP','Wt','AM']]\n",
    "y = cars_final.MPG\n",
    "X_train, X_test, y_train, y_test = train_test_split(X,y,test_size=0.15,random_state=14)"
   ]
  },
  {
   "cell_type": "code",
   "execution_count": 33,
   "metadata": {
    "colab": {},
    "colab_type": "code",
    "id": "8dI4w3vxYHED"
   },
   "outputs": [
    {
     "data": {
      "text/plain": [
       "0.9422574039646744"
      ]
     },
     "execution_count": 33,
     "metadata": {},
     "output_type": "execute_result"
    }
   ],
   "source": [
    "model_lr = LinearRegression()\n",
    "model_lr.fit(X_train,y_train)\n",
    "y_predict = model_lr.predict(X_test)\n",
    "r2_score(y_test,y_predict)"
   ]
  },
  {
   "cell_type": "code",
   "execution_count": 34,
   "metadata": {
    "colab": {},
    "colab_type": "code",
    "id": "qkzd9PTrYHEJ"
   },
   "outputs": [
    {
     "data": {
      "text/plain": [
       "2     22.8\n",
       "18    30.4\n",
       "15    10.4\n",
       "3     21.4\n",
       "26    26.0\n",
       "Name: MPG, dtype: float64"
      ]
     },
     "execution_count": 34,
     "metadata": {},
     "output_type": "execute_result"
    }
   ],
   "source": [
    "y_test"
   ]
  },
  {
   "cell_type": "code",
   "execution_count": null,
   "metadata": {
    "colab": {},
    "colab_type": "code",
    "id": "d_Th1PKXYHEQ"
   },
   "outputs": [],
   "source": [
    "y_predict"
   ]
  },
  {
   "cell_type": "code",
   "execution_count": 35,
   "metadata": {
    "colab": {},
    "colab_type": "code",
    "id": "TA0seZh6YHEb"
   },
   "outputs": [
    {
     "name": "stdout",
     "output_type": "stream",
     "text": [
      "34.22279657053797\n"
     ]
    }
   ],
   "source": [
    "# print the intercept\n",
    "print(model_lr.intercept_)"
   ]
  },
  {
   "cell_type": "code",
   "execution_count": 36,
   "metadata": {
    "colab": {},
    "colab_type": "code",
    "id": "HLuO0lx7YHEi"
   },
   "outputs": [],
   "source": [
    "predictions = model_lr.predict(X_test)"
   ]
  },
  {
   "cell_type": "code",
   "execution_count": 37,
   "metadata": {
    "colab": {},
    "colab_type": "code",
    "id": "XykDbN7BYHEr"
   },
   "outputs": [
    {
     "data": {
      "text/plain": [
       "<matplotlib.collections.PathCollection at 0x1b1ed678a08>"
      ]
     },
     "execution_count": 37,
     "metadata": {},
     "output_type": "execute_result"
    },
    {
     "data": {
      "image/png": "[encoded data removed]",
      "text/plain": [
       "<Figure size 432x288 with 1 Axes>"
      ]
     },
     "metadata": {
      "needs_background": "light"
     },
     "output_type": "display_data"
    }
   ],
   "source": [
    "plt.scatter(y_test,predictions)"
   ]
  },
  {
   "cell_type": "code",
   "execution_count": 38,
   "metadata": {
    "colab": {},
    "colab_type": "code",
    "id": "8xg9L6gRYHEz"
   },
   "outputs": [],
   "source": [
    "# Model evaluation \n",
    "from sklearn.metrics import r2_score, accuracy_score\n",
    "from sklearn import metrics"
   ]
  },
  {
   "cell_type": "code",
   "execution_count": 39,
   "metadata": {
    "colab": {},
    "colab_type": "code",
    "id": "w3ANwld8YHE7"
   },
   "outputs": [
    {
     "name": "stdout",
     "output_type": "stream",
     "text": [
      "MAE: 1.1393253788462072\n",
      "MSE: 2.562847382431892\n",
      "RMSE: 1.6008895597235595\n"
     ]
    }
   ],
   "source": [
    "print('MAE:', metrics.mean_absolute_error(y_test, predictions))\n",
    "print('MSE:', metrics.mean_squared_error(y_test, predictions))\n",
    "print('RMSE:', np.sqrt(metrics.mean_squared_error(y_test, predictions)))"
   ]
  },
  {
   "cell_type": "code",
   "execution_count": null,
   "metadata": {
    "colab": {},
    "colab_type": "code",
    "id": "rPzCnkMUYHFW"
   },
   "outputs": [],
   "source": []
  }
 ],
 "metadata": {
  "colab": {
   "name": "Linear Regression Code.ipynb",
   "provenance": []
  },
  "kernelspec": {
   "display_name": "Python 3",
   "language": "python",
   "name": "python3"
  },
  "language_info": {
   "codemirror_mode": {
    "name": "ipython",
    "version": 3
   },
   "file_extension": ".py",
   "mimetype": "text/x-python",
   "name": "python",
   "nbconvert_exporter": "python",
   "pygments_lexer": "ipython3",
   "version": "3.7.4"
  }
 },
 "nbformat": 4,
 "nbformat_minor": 1
}
